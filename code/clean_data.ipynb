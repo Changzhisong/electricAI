{
 "cells": [
  {
   "cell_type": "code",
   "execution_count": 1,
   "metadata": {
    "collapsed": true
   },
   "outputs": [],
   "source": [
    "import sys\n",
    "from datetime import datetime, timedelta, date\n",
    "\n",
    "import numpy as np\n",
    "import pandas as pd\n",
    "import scipy as sp\n",
    "\n",
    "from sklearn.ensemble import IsolationForest"
   ]
  },
  {
   "cell_type": "code",
   "execution_count": 2,
   "metadata": {
    "collapsed": false
   },
   "outputs": [],
   "source": [
    "if sys.argv[1] == 'test':\n",
    "    is_train = False\n",
    "    train_path = '../dataset/fetures/test.csv'\n",
    "else:\n",
    "    is_train = True\n",
    "    if sys.argv[2].endswith('.json'):\n",
    "        month = '9'\n",
    "    else:\n",
    "        month = sys.argv[2]\n",
    "    train_path = '../dataset/fetures/{}/train.csv'.format(month)"
   ]
  },
  {
   "cell_type": "code",
   "execution_count": 3,
   "metadata": {
    "collapsed": false
   },
   "outputs": [],
   "source": [
    "train = pd.read_csv(train_path, parse_dates=['record_date'])"
   ]
  },
  {
   "cell_type": "code",
   "execution_count": 4,
   "metadata": {
    "collapsed": false
   },
   "outputs": [
    {
     "name": "stdout",
     "output_type": "stream",
     "text": [
      "<class 'pandas.core.frame.DataFrame'>\n",
      "RangeIndex: 532156 entries, 0 to 532155\n",
      "Data columns (total 3 columns):\n",
      "record_date          532156 non-null datetime64[ns]\n",
      "user_id              532156 non-null int64\n",
      "power_consumption    532156 non-null int64\n",
      "dtypes: datetime64[ns](1), int64(2)\n",
      "memory usage: 12.2 MB\n"
     ]
    }
   ],
   "source": [
    "train.info()"
   ]
  },
  {
   "cell_type": "code",
   "execution_count": 5,
   "metadata": {
    "collapsed": true
   },
   "outputs": [],
   "source": [
    "threshold = 0.95"
   ]
  },
  {
   "cell_type": "code",
   "execution_count": 6,
   "metadata": {
    "collapsed": true
   },
   "outputs": [],
   "source": [
    "def clean_quantile(df):\n",
    "    up = df.power_consumption.quantile(threshold)\n",
    "    down = df.power_consumption.quantile(1-threshold)\n",
    "    mean = df.power_consumption.mean()\n",
    "    print(df['user_id'].iloc[0], 'up:', up, 'down:', down, 'mean:', mean, end='\\n', file=open('../dataset/clean.txt', 'a+'))\n",
    "    df.loc[(df.power_consumption>=up)|(df.power_consumption<=down), 'power_consumption'] = df.power_consumption.mean()\n",
    "    return df"
   ]
  },
  {
   "cell_type": "code",
   "execution_count": 7,
   "metadata": {
    "collapsed": false
   },
   "outputs": [],
   "source": [
    "train = train.groupby('user_id', as_index=True).apply(clean_quantile)"
   ]
  },
  {
   "cell_type": "markdown",
   "metadata": {},
   "source": [
    "# 去除这些公司后结果变差,可能是因为未来也会造成影响"
   ]
  },
  {
   "cell_type": "code",
   "execution_count": 9,
   "metadata": {
    "collapsed": true
   },
   "outputs": [],
   "source": [
    "def clean_all_zero(df):\n",
    "    ndf = df.loc[df.power_consumption!=1]\n",
    "    if not ndf.empty:\n",
    "        return df\n",
    "    else:\n",
    "        print(df['user_id'].iloc[0])\n",
    "        return ndf\n"
   ]
  },
  {
   "cell_type": "code",
   "execution_count": 10,
   "metadata": {
    "collapsed": true
   },
   "outputs": [
    {
     "name": "stdout",
     "output_type": "stream",
     "text": [
      "259\n",
      "413\n",
      "418\n",
      "462\n",
      "469\n",
      "522\n",
      "533\n",
      "549\n",
      "550\n",
      "551\n",
      "553\n",
      "557\n",
      "570\n",
      "586\n",
      "588\n",
      "589\n",
      "598\n",
      "606\n",
      "609\n",
      "617\n",
      "622\n",
      "633\n",
      "634\n",
      "637\n",
      "638\n",
      "639\n",
      "645\n",
      "646\n",
      "647\n",
      "650\n",
      "651\n",
      "652\n",
      "653\n",
      "654\n",
      "655\n",
      "656\n",
      "657\n",
      "658\n",
      "661\n",
      "663\n",
      "664\n",
      "665\n",
      "666\n",
      "667\n",
      "668\n",
      "669\n",
      "670\n",
      "671\n",
      "672\n",
      "673\n",
      "674\n",
      "675\n",
      "676\n",
      "677\n",
      "678\n",
      "679\n",
      "680\n",
      "681\n",
      "682\n",
      "683\n",
      "684\n",
      "685\n",
      "686\n",
      "687\n",
      "688\n",
      "689\n",
      "690\n",
      "691\n",
      "692\n",
      "693\n",
      "694\n",
      "695\n",
      "696\n",
      "709\n",
      "891\n",
      "950\n",
      "1044\n",
      "1045\n",
      "1111\n",
      "1129\n",
      "1233\n",
      "1234\n",
      "1261\n",
      "1280\n",
      "1413\n",
      "<class 'pandas.core.frame.DataFrame'>\n",
      "RangeIndex: 501046 entries, 0 to 501045\n",
      "Data columns (total 3 columns):\n",
      "record_date          501046 non-null datetime64[ns]\n",
      "user_id              501046 non-null int64\n",
      "power_consumption    501046 non-null float64\n",
      "dtypes: datetime64[ns](1), float64(1), int64(1)\n",
      "memory usage: 11.5 MB\n"
     ]
    }
   ],
   "source": [
    "# train = train.groupby('user_id').apply(clean_all_zero).reset_index(drop=True)\n",
    "# train.info()"
   ]
  },
  {
   "cell_type": "code",
   "execution_count": null,
   "metadata": {
    "collapsed": true
   },
   "outputs": [],
   "source": [
    "# test = test.groupby('user_id').apply(clean_all_zero).reset_index(drop=True)\n",
    "# test.info()"
   ]
  },
  {
   "cell_type": "markdown",
   "metadata": {},
   "source": [
    "# 添加公司用电量平滑处理"
   ]
  },
  {
   "cell_type": "code",
   "execution_count": 11,
   "metadata": {
    "collapsed": true
   },
   "outputs": [],
   "source": [
    "def rolling_power_consumption(df):\n",
    "    ndf = df.set_index('record_date')\n",
    "    ndf = ndf.rolling(2).mean()\n",
    "    return ndf.reset_index()"
   ]
  },
  {
   "cell_type": "code",
   "execution_count": 12,
   "metadata": {
    "collapsed": false
   },
   "outputs": [],
   "source": [
    "train = train.groupby('user_id').apply(rolling_power_consumption).dropna(subset=['user_id']).reset_index(drop=True)"
   ]
  },
  {
   "cell_type": "code",
   "execution_count": 13,
   "metadata": {
    "collapsed": false
   },
   "outputs": [
    {
     "name": "stdout",
     "output_type": "stream",
     "text": [
      "<class 'pandas.core.frame.DataFrame'>\n",
      "RangeIndex: 499677 entries, 0 to 499676\n",
      "Data columns (total 3 columns):\n",
      "record_date          499677 non-null datetime64[ns]\n",
      "user_id              499677 non-null float64\n",
      "power_consumption    499677 non-null float64\n",
      "dtypes: datetime64[ns](1), float64(2)\n",
      "memory usage: 11.4 MB\n"
     ]
    }
   ],
   "source": [
    "train.to_csv(train_path, index=False)\n",
    "train.info()"
   ]
  }
 ],
 "metadata": {
  "anaconda-cloud": {},
  "hide_input": false,
  "kernelspec": {
   "display_name": "Python 3",
   "language": "python",
   "name": "python3"
  },
  "language_info": {
   "codemirror_mode": {
    "name": "ipython",
    "version": 3
   },
   "file_extension": ".py",
   "mimetype": "text/x-python",
   "name": "python",
   "nbconvert_exporter": "python",
   "pygments_lexer": "ipython3",
   "version": "3.5.1"
  }
 },
 "nbformat": 4,
 "nbformat_minor": 2
}
