{
 "cells": [
  {
   "cell_type": "code",
   "execution_count": 123,
   "metadata": {
    "collapsed": true
   },
   "outputs": [],
   "source": [
    "from os.path import exists, join\n",
    "from os import mkdir\n",
    "from datetime import datetime, timedelta, date\n",
    "from collections import namedtuple\n",
    "\n",
    "import numpy as np\n",
    "import pandas as pd\n",
    "import scipy as sp"
   ]
  },
  {
   "cell_type": "code",
   "execution_count": 124,
   "metadata": {
    "collapsed": true
   },
   "outputs": [],
   "source": [
    "train_base_dir = '../dataset/fetures/'"
   ]
  },
  {
   "cell_type": "markdown",
   "metadata": {},
   "source": [
    "# 移动滑窗划分成9个predict样本 "
   ]
  },
  {
   "cell_type": "code",
   "execution_count": 125,
   "metadata": {
    "collapsed": false
   },
   "outputs": [],
   "source": [
    "df = pd.read_csv('../dataset/train.csv', parse_dates=['record_date'], index_col=['record_date'])"
   ]
  },
  {
   "cell_type": "code",
   "execution_count": 126,
   "metadata": {
    "collapsed": false
   },
   "outputs": [],
   "source": [
    "begin = df.index.max().date() + timedelta(1)"
   ]
  },
  {
   "cell_type": "markdown",
   "metadata": {},
   "source": [
    "## 训练样本划分"
   ]
  },
  {
   "cell_type": "code",
   "execution_count": 127,
   "metadata": {
    "collapsed": true
   },
   "outputs": [],
   "source": [
    "TimeSpan = namedtuple('TimeSpan', ['train_start', 'train_end', 'predict_start', 'predict_end'])"
   ]
  },
  {
   "cell_type": "code",
   "execution_count": 128,
   "metadata": {
    "collapsed": true
   },
   "outputs": [],
   "source": [
    "timespans = []"
   ]
  },
  {
   "cell_type": "code",
   "execution_count": 129,
   "metadata": {
    "collapsed": true
   },
   "outputs": [],
   "source": [
    "end = begin - timedelta(1)\n",
    "for i in range(9):\n",
    "    p_end = date(begin.year, begin.month-i, begin.day)\n",
    "    predict_end = p_end - timedelta(1)\n",
    "    predict_start = date(begin.year, begin.month-i-1, begin.day)\n",
    "    train_end = predict_start - timedelta(1)\n",
    "    train_start = date(predict_start.year-1, predict_start.month, predict_start.day)\n",
    "    span = TimeSpan(train_start, train_end, predict_start, predict_end)\n",
    "#     print(span)\n",
    "    timespans.append(span)"
   ]
  },
  {
   "cell_type": "markdown",
   "metadata": {},
   "source": [
    "##### 创建文件架 "
   ]
  },
  {
   "cell_type": "code",
   "execution_count": 130,
   "metadata": {
    "collapsed": false
   },
   "outputs": [],
   "source": [
    "for span in timespans:\n",
    "    dir_n = str(span.predict_start.month)\n",
    "    path = join(train_base_dir, dir_n)\n",
    "    if not exists(path):\n",
    "        mkdir(path)"
   ]
  },
  {
   "cell_type": "code",
   "execution_count": 131,
   "metadata": {
    "collapsed": false
   },
   "outputs": [],
   "source": [
    "span = timespans[0]"
   ]
  },
  {
   "cell_type": "code",
   "execution_count": 132,
   "metadata": {
    "collapsed": true
   },
   "outputs": [],
   "source": [
    "def create_train_sample(timespan):  \n",
    "    train = df.loc[str(span.train_start):str(span.train_end)]    \n",
    "    train_predict = df.loc[str(span.predict_start):str(span.predict_end)].reset_index()\n",
    "    train_predict = train_predict.groupby('record_date')[['power_consumption']].sum()\n",
    "    train_predict['predict_power_consumption'] = train_predict.power_consumption.astype(np.int64)\n",
    "    train_predict.drop('power_consumption', axis=1, inplace=True)\n",
    "    train_predict.index.name = 'predict_date'\n",
    "    train_path = join(train_base_dir, str(span.predict_start.month), 'train.csv')\n",
    "    train_predict_path = join(train_base_dir, str(span.predict_start.month), 'train_predict.csv')\n",
    "    train.to_csv(train_path)\n",
    "    train.info()\n",
    "    train_predict.to_csv(train_predict_path)\n",
    "    train_predict.info()"
   ]
  },
  {
   "cell_type": "code",
   "execution_count": 133,
   "metadata": {
    "collapsed": false
   },
   "outputs": [
    {
     "name": "stdout",
     "output_type": "stream",
     "text": [
      "<class 'pandas.core.frame.DataFrame'>\n",
      "DatetimeIndex: 532156 entries, 2015-09-01 to 2016-08-31\n",
      "Data columns (total 2 columns):\n",
      "user_id              532156 non-null int64\n",
      "power_consumption    532156 non-null int64\n",
      "dtypes: int64(2)\n",
      "memory usage: 12.2 MB\n",
      "<class 'pandas.core.frame.DataFrame'>\n",
      "DatetimeIndex: 30 entries, 2016-09-01 to 2016-09-30\n",
      "Data columns (total 1 columns):\n",
      "predict_power_consumption    30 non-null int64\n",
      "dtypes: int64(1)\n",
      "memory usage: 480.0 bytes\n",
      "<class 'pandas.core.frame.DataFrame'>\n",
      "DatetimeIndex: 532156 entries, 2015-08-01 to 2016-07-31\n",
      "Data columns (total 2 columns):\n",
      "user_id              532156 non-null int64\n",
      "power_consumption    532156 non-null int64\n",
      "dtypes: int64(2)\n",
      "memory usage: 12.2 MB\n",
      "<class 'pandas.core.frame.DataFrame'>\n",
      "DatetimeIndex: 31 entries, 2016-08-01 to 2016-08-31\n",
      "Data columns (total 1 columns):\n",
      "predict_power_consumption    31 non-null int64\n",
      "dtypes: int64(1)\n",
      "memory usage: 496.0 bytes\n",
      "<class 'pandas.core.frame.DataFrame'>\n",
      "DatetimeIndex: 532153 entries, 2015-07-01 to 2016-06-30\n",
      "Data columns (total 2 columns):\n",
      "user_id              532153 non-null int64\n",
      "power_consumption    532153 non-null int64\n",
      "dtypes: int64(2)\n",
      "memory usage: 12.2 MB\n",
      "<class 'pandas.core.frame.DataFrame'>\n",
      "DatetimeIndex: 31 entries, 2016-07-01 to 2016-07-31\n",
      "Data columns (total 1 columns):\n",
      "predict_power_consumption    31 non-null int64\n",
      "dtypes: int64(1)\n",
      "memory usage: 496.0 bytes\n",
      "<class 'pandas.core.frame.DataFrame'>\n",
      "DatetimeIndex: 532150 entries, 2015-06-01 to 2016-05-31\n",
      "Data columns (total 2 columns):\n",
      "user_id              532150 non-null int64\n",
      "power_consumption    532150 non-null int64\n",
      "dtypes: int64(2)\n",
      "memory usage: 12.2 MB\n",
      "<class 'pandas.core.frame.DataFrame'>\n",
      "DatetimeIndex: 30 entries, 2016-06-01 to 2016-06-30\n",
      "Data columns (total 1 columns):\n",
      "predict_power_consumption    30 non-null int64\n",
      "dtypes: int64(1)\n",
      "memory usage: 480.0 bytes\n",
      "<class 'pandas.core.frame.DataFrame'>\n",
      "DatetimeIndex: 532150 entries, 2015-05-01 to 2016-04-30\n",
      "Data columns (total 2 columns):\n",
      "user_id              532150 non-null int64\n",
      "power_consumption    532150 non-null int64\n",
      "dtypes: int64(2)\n",
      "memory usage: 12.2 MB\n",
      "<class 'pandas.core.frame.DataFrame'>\n",
      "DatetimeIndex: 31 entries, 2016-05-01 to 2016-05-31\n",
      "Data columns (total 1 columns):\n",
      "predict_power_consumption    31 non-null int64\n",
      "dtypes: int64(1)\n",
      "memory usage: 496.0 bytes\n",
      "<class 'pandas.core.frame.DataFrame'>\n",
      "DatetimeIndex: 532148 entries, 2015-04-01 to 2016-03-31\n",
      "Data columns (total 2 columns):\n",
      "user_id              532148 non-null int64\n",
      "power_consumption    532148 non-null int64\n",
      "dtypes: int64(2)\n",
      "memory usage: 12.2 MB\n",
      "<class 'pandas.core.frame.DataFrame'>\n",
      "DatetimeIndex: 30 entries, 2016-04-01 to 2016-04-30\n",
      "Data columns (total 1 columns):\n",
      "predict_power_consumption    30 non-null int64\n",
      "dtypes: int64(1)\n",
      "memory usage: 480.0 bytes\n",
      "<class 'pandas.core.frame.DataFrame'>\n",
      "DatetimeIndex: 532147 entries, 2015-03-01 to 2016-02-29\n",
      "Data columns (total 2 columns):\n",
      "user_id              532147 non-null int64\n",
      "power_consumption    532147 non-null int64\n",
      "dtypes: int64(2)\n",
      "memory usage: 12.2 MB\n",
      "<class 'pandas.core.frame.DataFrame'>\n",
      "DatetimeIndex: 31 entries, 2016-03-01 to 2016-03-31\n",
      "Data columns (total 1 columns):\n",
      "predict_power_consumption    31 non-null int64\n",
      "dtypes: int64(1)\n",
      "memory usage: 496.0 bytes\n",
      "<class 'pandas.core.frame.DataFrame'>\n",
      "DatetimeIndex: 530692 entries, 2015-02-01 to 2016-01-31\n",
      "Data columns (total 2 columns):\n",
      "user_id              530692 non-null int64\n",
      "power_consumption    530692 non-null int64\n",
      "dtypes: int64(2)\n",
      "memory usage: 12.1 MB\n",
      "<class 'pandas.core.frame.DataFrame'>\n",
      "DatetimeIndex: 29 entries, 2016-02-01 to 2016-02-29\n",
      "Data columns (total 1 columns):\n",
      "predict_power_consumption    29 non-null int64\n",
      "dtypes: int64(1)\n",
      "memory usage: 464.0 bytes\n",
      "<class 'pandas.core.frame.DataFrame'>\n",
      "DatetimeIndex: 530693 entries, 2015-01-01 to 2015-12-31\n",
      "Data columns (total 2 columns):\n",
      "user_id              530693 non-null int64\n",
      "power_consumption    530693 non-null int64\n",
      "dtypes: int64(2)\n",
      "memory usage: 12.1 MB\n",
      "<class 'pandas.core.frame.DataFrame'>\n",
      "DatetimeIndex: 31 entries, 2016-01-01 to 2016-01-31\n",
      "Data columns (total 1 columns):\n",
      "predict_power_consumption    31 non-null int64\n",
      "dtypes: int64(1)\n",
      "memory usage: 496.0 bytes\n"
     ]
    }
   ],
   "source": [
    "for span in timespans:\n",
    "    create_train_sample(span)"
   ]
  },
  {
   "cell_type": "code",
   "execution_count": 138,
   "metadata": {
    "collapsed": true
   },
   "outputs": [],
   "source": [
    "test = df.loc['2015/10/1':'2016/9/30']"
   ]
  },
  {
   "cell_type": "code",
   "execution_count": 139,
   "metadata": {
    "collapsed": false
   },
   "outputs": [],
   "source": [
    "index = pd.date_range('2016/10/1', '2016/10/31')\n",
    "test_predict = pd.DataFrame(0, index=index, columns=['predict_power_consumption'])\n",
    "test_predict.index.name = 'predict_date'"
   ]
  },
  {
   "cell_type": "code",
   "execution_count": 140,
   "metadata": {
    "collapsed": false
   },
   "outputs": [
    {
     "name": "stdout",
     "output_type": "stream",
     "text": [
      "<class 'pandas.core.frame.DataFrame'>\n",
      "DatetimeIndex: 532159 entries, 2015-10-01 to 2016-09-28\n",
      "Data columns (total 2 columns):\n",
      "user_id              532159 non-null int64\n",
      "power_consumption    532159 non-null int64\n",
      "dtypes: int64(2)\n",
      "memory usage: 12.2 MB\n"
     ]
    }
   ],
   "source": [
    "test.to_csv('../dataset/fetures/test.csv')\n",
    "test.info()"
   ]
  },
  {
   "cell_type": "code",
   "execution_count": 142,
   "metadata": {
    "collapsed": false
   },
   "outputs": [
    {
     "name": "stdout",
     "output_type": "stream",
     "text": [
      "<class 'pandas.core.frame.DataFrame'>\n",
      "DatetimeIndex: 31 entries, 2016-10-01 to 2016-10-31\n",
      "Freq: D\n",
      "Data columns (total 1 columns):\n",
      "predict_power_consumption    31 non-null int64\n",
      "dtypes: int64(1)\n",
      "memory usage: 496.0 bytes\n"
     ]
    }
   ],
   "source": [
    "test_predict.to_csv('../dataset/fetures/test_predict.csv')\n",
    "test_predict.info()"
   ]
  }
 ],
 "metadata": {
  "anaconda-cloud": {},
  "hide_input": false,
  "kernelspec": {
   "display_name": "Python 3",
   "language": "python",
   "name": "python3"
  },
  "language_info": {
   "codemirror_mode": {
    "name": "ipython",
    "version": 3
   },
   "file_extension": ".py",
   "mimetype": "text/x-python",
   "name": "python",
   "nbconvert_exporter": "python",
   "pygments_lexer": "ipython3",
   "version": "3.5.1"
  }
 },
 "nbformat": 4,
 "nbformat_minor": 2
}
