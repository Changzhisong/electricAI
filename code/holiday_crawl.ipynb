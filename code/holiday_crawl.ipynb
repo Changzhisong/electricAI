{
 "cells": [
  {
   "cell_type": "code",
   "execution_count": 54,
   "metadata": {
    "collapsed": true
   },
   "outputs": [],
   "source": [
    "import requests\n",
    "import pandas as pd\n",
    "import json\n",
    "from os.path import exists"
   ]
  },
  {
   "cell_type": "code",
   "execution_count": 59,
   "metadata": {
    "collapsed": true
   },
   "outputs": [],
   "source": [
    "def write_to_file(filename, data):\n",
    "    if not exists(filename):\n",
    "        with open(filename, 'w') as f:\n",
    "            f.write('date,holiday\\n')   \n",
    "    for k, v in json.loads(data).items():\n",
    "        if type(v) == str:\n",
    "            v = int(v)\n",
    "        with open(filename, 'a') as f:\n",
    "            f.write('{},{}\\n'.format(k, v))        "
   ]
  },
  {
   "cell_type": "code",
   "execution_count": 2,
   "metadata": {
    "collapsed": false
   },
   "outputs": [],
   "source": [
    "data = pd.date_range('2015/1/1', '2016/12/31')"
   ]
  },
  {
   "cell_type": "code",
   "execution_count": 3,
   "metadata": {
    "collapsed": false
   },
   "outputs": [],
   "source": [
    "date_ags = data.map(lambda x:x.strftime('%Y%m%d'))"
   ]
  },
  {
   "cell_type": "code",
   "execution_count": 19,
   "metadata": {
    "collapsed": true
   },
   "outputs": [],
   "source": [
    "url_fmt = 'http://tool.bitefu.net/jiari/?d={}'"
   ]
  },
  {
   "cell_type": "code",
   "execution_count": 30,
   "metadata": {
    "collapsed": false
   },
   "outputs": [],
   "source": [
    "agrv = ','.join(date_ags[:100])"
   ]
  },
  {
   "cell_type": "code",
   "execution_count": 31,
   "metadata": {
    "collapsed": false
   },
   "outputs": [
    {
     "data": {
      "text/plain": [
       "'http://tool.bitefu.net/jiari/?d=20150101,20150102,20150103,20150104,20150105,20150106,20150107,20150108,20150109,20150110,20150111,20150112,20150113,20150114,20150115,20150116,20150117,20150118,20150119,20150120,20150121,20150122,20150123,20150124,20150125,20150126,20150127,20150128,20150129,20150130,20150131,20150201,20150202,20150203,20150204,20150205,20150206,20150207,20150208,20150209,20150210,20150211,20150212,20150213,20150214,20150215,20150216,20150217,20150218,20150219,20150220,20150221,20150222,20150223,20150224,20150225,20150226,20150227,20150228,20150301,20150302,20150303,20150304,20150305,20150306,20150307,20150308,20150309,20150310,20150311,20150312,20150313,20150314,20150315,20150316,20150317,20150318,20150319,20150320,20150321,20150322,20150323,20150324,20150325,20150326,20150327,20150328,20150329,20150330,20150331,20150401,20150402,20150403,20150404,20150405,20150406,20150407,20150408,20150409,20150410'"
      ]
     },
     "execution_count": 31,
     "metadata": {},
     "output_type": "execute_result"
    }
   ],
   "source": [
    "url = url_fmt.format(agrv)\n",
    "url"
   ]
  },
  {
   "cell_type": "code",
   "execution_count": 63,
   "metadata": {
    "collapsed": false
   },
   "outputs": [],
   "source": [
    "for i in range(0, date_ags.shape[0], 100):\n",
    "    agrv = ','.join(date_ags[i:(i+100)])\n",
    "    url = url_fmt.format(agrv)\n",
    "    res = requests.get(url)\n",
    "    write_to_file('../dataset/holiday.csv', res.text)"
   ]
  }
 ],
 "metadata": {
  "anaconda-cloud": {},
  "hide_input": false,
  "kernelspec": {
   "display_name": "Python 3",
   "language": "python",
   "name": "python3"
  },
  "language_info": {
   "codemirror_mode": {
    "name": "ipython",
    "version": 3
   },
   "file_extension": ".py",
   "mimetype": "text/x-python",
   "name": "python",
   "nbconvert_exporter": "python",
   "pygments_lexer": "ipython3",
   "version": "3.5.1"
  }
 },
 "nbformat": 4,
 "nbformat_minor": 2
}
