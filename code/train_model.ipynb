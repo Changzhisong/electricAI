{
 "cells": [
  {
   "cell_type": "code",
   "execution_count": 35,
   "metadata": {
    "collapsed": false
   },
   "outputs": [],
   "source": [
    "import pickle\n",
    "from datetime import datetime\n",
    "\n",
    "import numpy as np\n",
    "import scipy as sp\n",
    "import pandas as pd\n",
    "\n",
    "from sklearn.ensemble import RandomForestRegressor\n",
    "from sklearn.metrics import r2_score, roc_auc_score\n",
    "from sklearn import cross_validation\n",
    "from sklearn.model_selection import GridSearchCV\n",
    "from sklearn.svm import SVR\n",
    "import mlxtend"
   ]
  },
  {
   "cell_type": "code",
   "execution_count": 36,
   "metadata": {
    "collapsed": true
   },
   "outputs": [],
   "source": [
    "from mlxtend.regressor import StackingRegressor\n",
    "from mlxtend.data import boston_housing_data\n",
    "from sklearn.linear_model import LinearRegression\n",
    "from sklearn.linear_model import Ridge\n",
    "from sklearn.svm import SVR\n",
    "from sklearn.ensemble import ExtraTreesRegressor"
   ]
  },
  {
   "cell_type": "code",
   "execution_count": 37,
   "metadata": {
    "collapsed": true
   },
   "outputs": [],
   "source": [
    "def loss_score(predict, real):\n",
    "    f = (real - predict)/real\n",
    "    n = len(f)\n",
    "    f = f.replace([np.nan, -np.nan], 0)\n",
    "    score = 1 - np.abs(f).sum()/n\n",
    "    return score "
   ]
  },
  {
   "cell_type": "code",
   "execution_count": 38,
   "metadata": {
    "collapsed": true
   },
   "outputs": [],
   "source": [
    "model_path = '../dataset/fetures/model.pkl'"
   ]
  },
  {
   "cell_type": "code",
   "execution_count": 39,
   "metadata": {
    "collapsed": true
   },
   "outputs": [],
   "source": [
    "fetures = pd.read_csv('../dataset/fetures/train_feture.csv')"
   ]
  },
  {
   "cell_type": "code",
   "execution_count": 40,
   "metadata": {
    "collapsed": false
   },
   "outputs": [],
   "source": [
    "train_x = fetures.drop(['predict_date', 'predict_power_consumption'], axis=1)"
   ]
  },
  {
   "cell_type": "code",
   "execution_count": 41,
   "metadata": {
    "collapsed": false
   },
   "outputs": [],
   "source": [
    "train_y = fetures['predict_power_consumption']"
   ]
  },
  {
   "cell_type": "markdown",
   "metadata": {},
   "source": [
    "###  使用 gridsearch 调参"
   ]
  },
  {
   "cell_type": "code",
   "execution_count": 43,
   "metadata": {
    "collapsed": false
   },
   "outputs": [],
   "source": [
    "parameters = {\n",
    "    'n_estimators': [10, 100, 200, 300, 500],\n",
    "#     'criterion': ['mse', 'mae'],\n",
    "    'max_features': [10, 50, 100, 200, 'sqrt']\n",
    "}"
   ]
  },
  {
   "cell_type": "code",
   "execution_count": 44,
   "metadata": {
    "collapsed": true
   },
   "outputs": [],
   "source": [
    "# model = RandomForestRegressor(n_jobs=-1, oob_score=True)"
   ]
  },
  {
   "cell_type": "code",
   "execution_count": 45,
   "metadata": {
    "collapsed": false
   },
   "outputs": [],
   "source": [
    "# cv = cross_validation.ShuffleSplit(train_x.shape[0], n_iter=8, test_size=0.1, random_state=0)\n",
    "# clf = GridSearchCV(model, parameters, cv=cv)"
   ]
  },
  {
   "cell_type": "code",
   "execution_count": 46,
   "metadata": {
    "collapsed": true
   },
   "outputs": [],
   "source": [
    "# clf.fit(train_x.fillna(0), train_y)"
   ]
  },
  {
   "cell_type": "code",
   "execution_count": 47,
   "metadata": {
    "collapsed": false
   },
   "outputs": [],
   "source": [
    "# model = RandomForestRegressor(n_jobs=-1, oob_score=True, random_state=666, **clf.best_params_)"
   ]
  },
  {
   "cell_type": "code",
   "execution_count": 48,
   "metadata": {
    "collapsed": false
   },
   "outputs": [],
   "source": [
    "# cv = cross_validation.ShuffleSplit(train_x.shape[0], n_iter=5, test_size=0.1, random_state=666)\n",
    "# r2_score = cross_validation.cross_val_score(model, train_x.fillna(0), train_y, cv=cv)\n",
    "# r2_score"
   ]
  },
  {
   "cell_type": "code",
   "execution_count": 288,
   "metadata": {
    "collapsed": true
   },
   "outputs": [],
   "source": [
    "cv = cross_validation.ShuffleSplit(train_x.shape[0], n_iter=10, test_size=0.2, random_state=666)"
   ]
  },
  {
   "cell_type": "code",
   "execution_count": 290,
   "metadata": {
    "collapsed": true
   },
   "outputs": [],
   "source": [
    "forest = RandomForestRegressor(\n",
    "    n_jobs=-1,\n",
    "#     criterion='mae',\n",
    "    random_state=1,\n",
    "    oob_score=True,\n",
    "    n_estimators=100,\n",
    "    max_features='auto')\n",
    "fores = RandomForestRegressor(\n",
    "    n_jobs=-1,\n",
    "    random_state=2,\n",
    "    oob_score=True,\n",
    "    n_estimators=300,\n",
    "    max_features=300)\n",
    "extract = ExtraTreesRegressor(\n",
    "    n_jobs=-1,\n",
    "    random_state=3,\n",
    "#     criterion='mae',\n",
    "    bootstrap=True,\n",
    "    oob_score=True,\n",
    "    n_estimators=100,\n",
    "    max_features='auto')\n",
    "extrac = ExtraTreesRegressor(\n",
    "    n_jobs=-1,\n",
    "    random_state=4,\n",
    "    bootstrap=True,\n",
    "    oob_score=True,\n",
    "    n_estimators=300,\n",
    "    max_features=300)"
   ]
  },
  {
   "cell_type": "code",
   "execution_count": 292,
   "metadata": {
    "collapsed": true
   },
   "outputs": [],
   "source": [
    "clfs = [forest, fores, extract, extrac]"
   ]
  },
  {
   "cell_type": "code",
   "execution_count": 293,
   "metadata": {
    "collapsed": true
   },
   "outputs": [],
   "source": [
    "params = {\n",
    "    'forest__n-estimators': [10, 50, 100],\n",
    "    'forest__max-features': [10, 50, 100],\n",
    "    'fores__n-estimators': [100, 200, 500],\n",
    "    'fores__max-features': [100, 200, 300],\n",
    "    'extract__n-estimators': [10, 50, 100],\n",
    "    'extract__max-features': [10, 50, 100],\n",
    "    'extrac__n-estimators': [100, 200, 500],\n",
    "    'extrac__max-features': [100, 200, 300],\n",
    "}"
   ]
  },
  {
   "cell_type": "code",
   "execution_count": 294,
   "metadata": {
    "collapsed": false
   },
   "outputs": [],
   "source": [
    "meta = LinearRegression(n_jobs=-1)"
   ]
  },
  {
   "cell_type": "code",
   "execution_count": 295,
   "metadata": {
    "collapsed": false
   },
   "outputs": [],
   "source": [
    "stacker = StackingRegressor(regressors=clfs, meta_regressor=meta, verbose=True)"
   ]
  },
  {
   "cell_type": "code",
   "execution_count": 296,
   "metadata": {
    "collapsed": false
   },
   "outputs": [],
   "source": [
    "grid = GridSearchCV(estimator=stacker, param_grid=params, cv=cv)"
   ]
  },
  {
   "cell_type": "code",
   "execution_count": 297,
   "metadata": {
    "collapsed": false
   },
   "outputs": [
    {
     "data": {
      "text/plain": [
       "{'bootstrap': True,\n",
       " 'criterion': 'mse',\n",
       " 'max_depth': None,\n",
       " 'max_features': 'auto',\n",
       " 'max_leaf_nodes': None,\n",
       " 'min_impurity_split': 1e-07,\n",
       " 'min_samples_leaf': 1,\n",
       " 'min_samples_split': 2,\n",
       " 'min_weight_fraction_leaf': 0.0,\n",
       " 'n_estimators': 100,\n",
       " 'n_jobs': -1,\n",
       " 'oob_score': True,\n",
       " 'random_state': 3,\n",
       " 'verbose': 0,\n",
       " 'warm_start': False}"
      ]
     },
     "execution_count": 297,
     "metadata": {},
     "output_type": "execute_result"
    }
   ],
   "source": [
    "extract.get_params()"
   ]
  },
  {
   "cell_type": "code",
   "execution_count": 298,
   "metadata": {
    "collapsed": true
   },
   "outputs": [],
   "source": [
    "# grid.fit(train_x.fillna(0), train_y)"
   ]
  },
  {
   "cell_type": "code",
   "execution_count": 300,
   "metadata": {
    "collapsed": true
   },
   "outputs": [
    {
     "name": "stdout",
     "output_type": "stream",
     "text": [
      "Fitting 4 regressors...\n",
      "Fitting regressor1: randomforestregressor (1/4)\n",
      "Fitting 4 regressors...\n",
      "Fitting regressor1: randomforestregressor (1/4)\n",
      "Fitting 4 regressors...\n",
      "Fitting regressor1: randomforestregressor (1/4)\n",
      "Fitting 4 regressors...\n",
      "Fitting regressor1: randomforestregressor (1/4)\n",
      "Fitting regressor2: randomforestregressor (2/4)\n",
      "Fitting regressor2: randomforestregressor (2/4)\n",
      "Fitting regressor2: randomforestregressor (2/4)\n",
      "Fitting regressor2: randomforestregressor (2/4)\n",
      "Fitting regressor3: extratreesregressor (3/4)\n",
      "Fitting regressor3: extratreesregressor (3/4)\n",
      "Fitting regressor3: extratreesregressor (3/4)\n",
      "Fitting regressor3: extratreesregressor (3/4)\n",
      "Fitting regressor4: extratreesregressor (4/4)\n",
      "Fitting regressor4: extratreesregressor (4/4)\n",
      "Fitting regressor4: extratreesregressor (4/4)\n",
      "Fitting regressor4: extratreesregressor (4/4)\n",
      "Fitting 4 regressors...\n",
      "Fitting regressor1: randomforestregressor (1/4)\n",
      "Fitting 4 regressors...\n",
      "Fitting regressor1: randomforestregressor (1/4)\n",
      "Fitting 4 regressors...\n",
      "Fitting regressor1: randomforestregressor (1/4)\n",
      "Fitting 4 regressors...\n",
      "Fitting regressor1: randomforestregressor (1/4)\n",
      "Fitting regressor2: randomforestregressor (2/4)\n",
      "Fitting regressor2: randomforestregressor (2/4)\n",
      "Fitting regressor2: randomforestregressor (2/4)\n",
      "Fitting regressor2: randomforestregressor (2/4)\n",
      "Fitting regressor3: extratreesregressor (3/4)\n",
      "Fitting regressor3: extratreesregressor (3/4)\n",
      "Fitting regressor3: extratreesregressor (3/4)\n",
      "Fitting regressor3: extratreesregressor (3/4)\n",
      "Fitting regressor4: extratreesregressor (4/4)\n",
      "Fitting regressor4: extratreesregressor (4/4)\n",
      "Fitting regressor4: extratreesregressor (4/4)\n",
      "Fitting regressor4: extratreesregressor (4/4)\n",
      "Fitting 4 regressors...\n",
      "Fitting regressor1: randomforestregressor (1/4)\n",
      "Fitting 4 regressors...\n",
      "Fitting regressor1: randomforestregressor (1/4)\n",
      "Fitting regressor2: randomforestregressor (2/4)\n",
      "Fitting regressor2: randomforestregressor (2/4)\n",
      "Fitting regressor3: extratreesregressor (3/4)\n",
      "Fitting regressor3: extratreesregressor (3/4)\n",
      "Fitting regressor4: extratreesregressor (4/4)\n",
      "Fitting regressor4: extratreesregressor (4/4)\n"
     ]
    },
    {
     "name": "stderr",
     "output_type": "stream",
     "text": [
      "[Parallel(n_jobs=-1)]: Done  10 out of  10 | elapsed:  2.1min finished\n"
     ]
    }
   ],
   "source": [
    "r2_score = cross_validation.cross_val_score(stacker, train_x, train_y, cv=cv, verbose=True, n_jobs=-1)"
   ]
  },
  {
   "cell_type": "code",
   "execution_count": 301,
   "metadata": {
    "collapsed": true
   },
   "outputs": [],
   "source": [
    "# grid.fit(train_x.fillna(0), train_y)"
   ]
  },
  {
   "cell_type": "code",
   "execution_count": 302,
   "metadata": {
    "collapsed": false
   },
   "outputs": [
    {
     "data": {
      "text/plain": [
       "(0.78898896165565757, 0.86008654041103993, 0.68182410751042843)"
      ]
     },
     "execution_count": 302,
     "metadata": {},
     "output_type": "execute_result"
    }
   ],
   "source": [
    "r2_score.mean(), r2_score.max(), r2_score.min()"
   ]
  },
  {
   "cell_type": "code",
   "execution_count": 303,
   "metadata": {
    "collapsed": false
   },
   "outputs": [
    {
     "name": "stdout",
     "output_type": "stream",
     "text": [
      "Fitting 4 regressors...\n",
      "Fitting regressor1: randomforestregressor (1/4)\n",
      "Fitting regressor2: randomforestregressor (2/4)\n",
      "Fitting regressor3: extratreesregressor (3/4)\n",
      "Fitting regressor4: extratreesregressor (4/4)\n"
     ]
    },
    {
     "data": {
      "text/plain": [
       "StackingRegressor(meta_regressor=LinearRegression(copy_X=True, fit_intercept=True, n_jobs=-1, normalize=False),\n",
       "         regressors=[RandomForestRegressor(bootstrap=True, criterion='mse', max_depth=None,\n",
       "           max_features='auto', max_leaf_nodes=None,\n",
       "           min_impurity_split=1e-07, min_samples_leaf=1,\n",
       "           min_samples_split=2, min_weight_fraction_leaf=0.0,\n",
       "           n_estimators=100, n_jobs=-1, oob_s...n_estimators=300, n_jobs=-1,\n",
       "          oob_score=True, random_state=4, verbose=0, warm_start=False)],\n",
       "         verbose=True)"
      ]
     },
     "execution_count": 303,
     "metadata": {},
     "output_type": "execute_result"
    }
   ],
   "source": [
    "stacker.fit(train_x.fillna(0), train_y)"
   ]
  },
  {
   "cell_type": "code",
   "execution_count": 304,
   "metadata": {
    "collapsed": false
   },
   "outputs": [],
   "source": [
    "r2_all_scorr = stacker.score(train_x.fillna(0), train_y)"
   ]
  },
  {
   "cell_type": "code",
   "execution_count": null,
   "metadata": {
    "collapsed": true
   },
   "outputs": [],
   "source": [
    "# importance_df = pd.DataFrame(model.feature_importances_, index=train_x.columns)\n",
    "\n",
    "# importance_df.sort_values(0, ascending=False, inplace=True)\n",
    "\n",
    "# importance_top20 = ' , '.join(['{}:{} '.format(x, importance_df.loc[x].values[0]) for x in importance_df.index][:20])\n",
    "# importance_top20"
   ]
  },
  {
   "cell_type": "code",
   "execution_count": 305,
   "metadata": {
    "collapsed": false
   },
   "outputs": [
    {
     "data": {
      "text/plain": [
       "0.9876500688451734"
      ]
     },
     "execution_count": 305,
     "metadata": {},
     "output_type": "execute_result"
    }
   ],
   "source": [
    "predict_result = stacker.predict(train_x.fillna(0))\n",
    "loss_s  = loss_score(predict_result, train_y)\n",
    "loss_s"
   ]
  },
  {
   "cell_type": "code",
   "execution_count": 306,
   "metadata": {
    "collapsed": false
   },
   "outputs": [
    {
     "data": {
      "text/plain": [
       "(0.9876500688451734,\n",
       " 0.98078256144556675,\n",
       " 0.78898896165565757,\n",
       " 0.86008654041103993,\n",
       " 0.68182410751042843)"
      ]
     },
     "execution_count": 306,
     "metadata": {},
     "output_type": "execute_result"
    }
   ],
   "source": [
    "result = loss_s, r2_all_scorr, r2_score.mean(), r2_score.max(), r2_score.min()\n",
    "result"
   ]
  },
  {
   "cell_type": "code",
   "execution_count": 307,
   "metadata": {
    "collapsed": false
   },
   "outputs": [
    {
     "name": "stdout",
     "output_type": "stream",
     "text": [
      "2017-06-13 07:55:11.228802 result: (0.9876500688451734, 0.98078256144556675, 0.78898896165565757, 0.86008654041103993, 0.68182410751042843)\n"
     ]
    }
   ],
   "source": [
    "print(datetime.now(), 'result:', result)\n",
    "print(\n",
    "    datetime.now(),\n",
    "    'result:', result,\n",
    "    file=open('result.txt', 'a+'),\n",
    "    sep=' ',\n",
    "    end='\\n')"
   ]
  },
  {
   "cell_type": "code",
   "execution_count": 308,
   "metadata": {
    "collapsed": false
   },
   "outputs": [],
   "source": [
    "pickle.dump(stacker, open(model_path, 'wb'))"
   ]
  }
 ],
 "metadata": {
  "anaconda-cloud": {},
  "hide_input": false,
  "kernelspec": {
   "display_name": "Python 3",
   "language": "python",
   "name": "python3"
  },
  "language_info": {
   "codemirror_mode": {
    "name": "ipython",
    "version": 3
   },
   "file_extension": ".py",
   "mimetype": "text/x-python",
   "name": "python",
   "nbconvert_exporter": "python",
   "pygments_lexer": "ipython3",
   "version": "3.5.1"
  }
 },
 "nbformat": 4,
 "nbformat_minor": 2
}
